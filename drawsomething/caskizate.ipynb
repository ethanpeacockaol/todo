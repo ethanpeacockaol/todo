{
 "cells": [
  {
   "cell_type": "code",
   "execution_count": 20,
   "id": "d3ff64b6-7a45-477b-b3b3-c15cfcb59eab",
   "metadata": {},
   "outputs": [],
   "source": [
    "import numpy as np\n",
    "import matplotlib.pyplot as plt"
   ]
  },
  {
   "cell_type": "code",
   "execution_count": 21,
   "id": "76ceecc6-1eff-4146-a1a9-ef389469453c",
   "metadata": {},
   "outputs": [],
   "source": [
    "x = np.array([x for x in range(1, 1001)])"
   ]
  },
  {
   "cell_type": "code",
   "execution_count": 22,
   "id": "84f6f245-c6e4-465a-9d83-46eac4f5ef9e",
   "metadata": {},
   "outputs": [
    {
     "data": {
      "text/plain": [
       "array([   1,    2,    3,    4,    5,    6,    7,    8,    9,   10,   11,\n",
       "         12,   13,   14,   15,   16,   17,   18,   19,   20,   21,   22,\n",
       "         23,   24,   25,   26,   27,   28,   29,   30,   31,   32,   33,\n",
       "         34,   35,   36,   37,   38,   39,   40,   41,   42,   43,   44,\n",
       "         45,   46,   47,   48,   49,   50,   51,   52,   53,   54,   55,\n",
       "         56,   57,   58,   59,   60,   61,   62,   63,   64,   65,   66,\n",
       "         67,   68,   69,   70,   71,   72,   73,   74,   75,   76,   77,\n",
       "         78,   79,   80,   81,   82,   83,   84,   85,   86,   87,   88,\n",
       "         89,   90,   91,   92,   93,   94,   95,   96,   97,   98,   99,\n",
       "        100,  101,  102,  103,  104,  105,  106,  107,  108,  109,  110,\n",
       "        111,  112,  113,  114,  115,  116,  117,  118,  119,  120,  121,\n",
       "        122,  123,  124,  125,  126,  127,  128,  129,  130,  131,  132,\n",
       "        133,  134,  135,  136,  137,  138,  139,  140,  141,  142,  143,\n",
       "        144,  145,  146,  147,  148,  149,  150,  151,  152,  153,  154,\n",
       "        155,  156,  157,  158,  159,  160,  161,  162,  163,  164,  165,\n",
       "        166,  167,  168,  169,  170,  171,  172,  173,  174,  175,  176,\n",
       "        177,  178,  179,  180,  181,  182,  183,  184,  185,  186,  187,\n",
       "        188,  189,  190,  191,  192,  193,  194,  195,  196,  197,  198,\n",
       "        199,  200,  201,  202,  203,  204,  205,  206,  207,  208,  209,\n",
       "        210,  211,  212,  213,  214,  215,  216,  217,  218,  219,  220,\n",
       "        221,  222,  223,  224,  225,  226,  227,  228,  229,  230,  231,\n",
       "        232,  233,  234,  235,  236,  237,  238,  239,  240,  241,  242,\n",
       "        243,  244,  245,  246,  247,  248,  249,  250,  251,  252,  253,\n",
       "        254,  255,  256,  257,  258,  259,  260,  261,  262,  263,  264,\n",
       "        265,  266,  267,  268,  269,  270,  271,  272,  273,  274,  275,\n",
       "        276,  277,  278,  279,  280,  281,  282,  283,  284,  285,  286,\n",
       "        287,  288,  289,  290,  291,  292,  293,  294,  295,  296,  297,\n",
       "        298,  299,  300,  301,  302,  303,  304,  305,  306,  307,  308,\n",
       "        309,  310,  311,  312,  313,  314,  315,  316,  317,  318,  319,\n",
       "        320,  321,  322,  323,  324,  325,  326,  327,  328,  329,  330,\n",
       "        331,  332,  333,  334,  335,  336,  337,  338,  339,  340,  341,\n",
       "        342,  343,  344,  345,  346,  347,  348,  349,  350,  351,  352,\n",
       "        353,  354,  355,  356,  357,  358,  359,  360,  361,  362,  363,\n",
       "        364,  365,  366,  367,  368,  369,  370,  371,  372,  373,  374,\n",
       "        375,  376,  377,  378,  379,  380,  381,  382,  383,  384,  385,\n",
       "        386,  387,  388,  389,  390,  391,  392,  393,  394,  395,  396,\n",
       "        397,  398,  399,  400,  401,  402,  403,  404,  405,  406,  407,\n",
       "        408,  409,  410,  411,  412,  413,  414,  415,  416,  417,  418,\n",
       "        419,  420,  421,  422,  423,  424,  425,  426,  427,  428,  429,\n",
       "        430,  431,  432,  433,  434,  435,  436,  437,  438,  439,  440,\n",
       "        441,  442,  443,  444,  445,  446,  447,  448,  449,  450,  451,\n",
       "        452,  453,  454,  455,  456,  457,  458,  459,  460,  461,  462,\n",
       "        463,  464,  465,  466,  467,  468,  469,  470,  471,  472,  473,\n",
       "        474,  475,  476,  477,  478,  479,  480,  481,  482,  483,  484,\n",
       "        485,  486,  487,  488,  489,  490,  491,  492,  493,  494,  495,\n",
       "        496,  497,  498,  499,  500,  501,  502,  503,  504,  505,  506,\n",
       "        507,  508,  509,  510,  511,  512,  513,  514,  515,  516,  517,\n",
       "        518,  519,  520,  521,  522,  523,  524,  525,  526,  527,  528,\n",
       "        529,  530,  531,  532,  533,  534,  535,  536,  537,  538,  539,\n",
       "        540,  541,  542,  543,  544,  545,  546,  547,  548,  549,  550,\n",
       "        551,  552,  553,  554,  555,  556,  557,  558,  559,  560,  561,\n",
       "        562,  563,  564,  565,  566,  567,  568,  569,  570,  571,  572,\n",
       "        573,  574,  575,  576,  577,  578,  579,  580,  581,  582,  583,\n",
       "        584,  585,  586,  587,  588,  589,  590,  591,  592,  593,  594,\n",
       "        595,  596,  597,  598,  599,  600,  601,  602,  603,  604,  605,\n",
       "        606,  607,  608,  609,  610,  611,  612,  613,  614,  615,  616,\n",
       "        617,  618,  619,  620,  621,  622,  623,  624,  625,  626,  627,\n",
       "        628,  629,  630,  631,  632,  633,  634,  635,  636,  637,  638,\n",
       "        639,  640,  641,  642,  643,  644,  645,  646,  647,  648,  649,\n",
       "        650,  651,  652,  653,  654,  655,  656,  657,  658,  659,  660,\n",
       "        661,  662,  663,  664,  665,  666,  667,  668,  669,  670,  671,\n",
       "        672,  673,  674,  675,  676,  677,  678,  679,  680,  681,  682,\n",
       "        683,  684,  685,  686,  687,  688,  689,  690,  691,  692,  693,\n",
       "        694,  695,  696,  697,  698,  699,  700,  701,  702,  703,  704,\n",
       "        705,  706,  707,  708,  709,  710,  711,  712,  713,  714,  715,\n",
       "        716,  717,  718,  719,  720,  721,  722,  723,  724,  725,  726,\n",
       "        727,  728,  729,  730,  731,  732,  733,  734,  735,  736,  737,\n",
       "        738,  739,  740,  741,  742,  743,  744,  745,  746,  747,  748,\n",
       "        749,  750,  751,  752,  753,  754,  755,  756,  757,  758,  759,\n",
       "        760,  761,  762,  763,  764,  765,  766,  767,  768,  769,  770,\n",
       "        771,  772,  773,  774,  775,  776,  777,  778,  779,  780,  781,\n",
       "        782,  783,  784,  785,  786,  787,  788,  789,  790,  791,  792,\n",
       "        793,  794,  795,  796,  797,  798,  799,  800,  801,  802,  803,\n",
       "        804,  805,  806,  807,  808,  809,  810,  811,  812,  813,  814,\n",
       "        815,  816,  817,  818,  819,  820,  821,  822,  823,  824,  825,\n",
       "        826,  827,  828,  829,  830,  831,  832,  833,  834,  835,  836,\n",
       "        837,  838,  839,  840,  841,  842,  843,  844,  845,  846,  847,\n",
       "        848,  849,  850,  851,  852,  853,  854,  855,  856,  857,  858,\n",
       "        859,  860,  861,  862,  863,  864,  865,  866,  867,  868,  869,\n",
       "        870,  871,  872,  873,  874,  875,  876,  877,  878,  879,  880,\n",
       "        881,  882,  883,  884,  885,  886,  887,  888,  889,  890,  891,\n",
       "        892,  893,  894,  895,  896,  897,  898,  899,  900,  901,  902,\n",
       "        903,  904,  905,  906,  907,  908,  909,  910,  911,  912,  913,\n",
       "        914,  915,  916,  917,  918,  919,  920,  921,  922,  923,  924,\n",
       "        925,  926,  927,  928,  929,  930,  931,  932,  933,  934,  935,\n",
       "        936,  937,  938,  939,  940,  941,  942,  943,  944,  945,  946,\n",
       "        947,  948,  949,  950,  951,  952,  953,  954,  955,  956,  957,\n",
       "        958,  959,  960,  961,  962,  963,  964,  965,  966,  967,  968,\n",
       "        969,  970,  971,  972,  973,  974,  975,  976,  977,  978,  979,\n",
       "        980,  981,  982,  983,  984,  985,  986,  987,  988,  989,  990,\n",
       "        991,  992,  993,  994,  995,  996,  997,  998,  999, 1000])"
      ]
     },
     "execution_count": 22,
     "metadata": {},
     "output_type": "execute_result"
    }
   ],
   "source": [
    "x"
   ]
  },
  {
   "cell_type": "code",
   "execution_count": 31,
   "id": "f7c8d386-b04f-442f-bb50-799832ace46e",
   "metadata": {},
   "outputs": [],
   "source": [
    "r = np.sin(np.tan(np.cos(9)**-1))"
   ]
  },
  {
   "cell_type": "code",
   "execution_count": 28,
   "id": "4606b00e-fd1c-4511-beba-1765ef18a350",
   "metadata": {},
   "outputs": [],
   "source": [
    "rsin = np.sin(x**r)/1 * 1/np.cos(r**x)"
   ]
  },
  {
   "cell_type": "code",
   "execution_count": 29,
   "id": "81029086-0cc4-4c66-b64a-d074821e01a2",
   "metadata": {},
   "outputs": [
    {
     "data": {
      "text/plain": [
       "array([1.55683197e+00, 8.86806219e-01, 6.05058173e-01, 4.57370566e-01,\n",
       "       3.67160613e-01, 3.06493208e-01, 2.62944898e-01, 2.30183254e-01,\n",
       "       2.04649888e-01, 1.84193989e-01, 1.67439932e-01, 1.53467312e-01,\n",
       "       1.41637212e-01, 1.31492325e-01, 1.22696753e-01, 1.14998254e-01,\n",
       "       1.08203733e-01, 1.02162878e-01, 9.67569391e-02, 9.18908576e-02,\n",
       "       8.74876431e-02, 8.34842754e-02, 7.98286751e-02, 7.64774283e-02,\n",
       "       7.33940568e-02, 7.05476866e-02, 6.79120117e-02, 6.54644796e-02,\n",
       "       6.31856450e-02, 6.10586524e-02, 5.90688194e-02, 5.72032969e-02,\n",
       "       5.54507920e-02, 5.38013394e-02, 5.22461117e-02, 5.07772615e-02,\n",
       "       4.93877894e-02, 4.80714321e-02, 4.68225683e-02, 4.56361387e-02,\n",
       "       4.45075770e-02, 4.34327517e-02, 4.24079155e-02, 4.14296614e-02,\n",
       "       4.04948853e-02, 3.96007527e-02, 3.87446704e-02, 3.79242610e-02,\n",
       "       3.71373413e-02, 3.63819027e-02, 3.56560938e-02, 3.49582059e-02,\n",
       "       3.42866589e-02, 3.36399899e-02, 3.30168424e-02, 3.24159566e-02,\n",
       "       3.18361611e-02, 3.12763654e-02, 3.07355528e-02, 3.02127744e-02,\n",
       "       2.97071434e-02, 2.92178304e-02, 2.87440584e-02, 2.82850992e-02,\n",
       "       2.78402692e-02, 2.74089263e-02, 2.69904668e-02, 2.65843223e-02,\n",
       "       2.61899576e-02, 2.58068678e-02, 2.54345767e-02, 2.50726345e-02,\n",
       "       2.47206158e-02, 2.43781184e-02, 2.40447616e-02, 2.37201845e-02,\n",
       "       2.34040453e-02, 2.30960193e-02, 2.27957986e-02, 2.25030905e-02,\n",
       "       2.22176167e-02, 2.19391127e-02, 2.16673265e-02, 2.14020183e-02,\n",
       "       2.11429594e-02, 2.08899320e-02, 2.06427279e-02, 2.04011488e-02,\n",
       "       2.01650049e-02, 1.99341153e-02, 1.97083066e-02, 1.94874133e-02,\n",
       "       1.92712767e-02, 1.90597451e-02, 1.88526730e-02, 1.86499211e-02,\n",
       "       1.84513558e-02, 1.82568490e-02, 1.80662777e-02, 1.78795237e-02,\n",
       "       1.76964738e-02, 1.75170190e-02, 1.73410546e-02, 1.71684799e-02,\n",
       "       1.69991980e-02, 1.68331159e-02, 1.66701437e-02, 1.65101951e-02,\n",
       "       1.63531868e-02, 1.61990387e-02, 1.60476735e-02, 1.58990167e-02,\n",
       "       1.57529963e-02, 1.56095429e-02, 1.54685896e-02, 1.53300718e-02,\n",
       "       1.51939269e-02, 1.50600947e-02, 1.49285169e-02, 1.47991370e-02,\n",
       "       1.46719006e-02, 1.45467550e-02, 1.44236492e-02, 1.43025339e-02,\n",
       "       1.41833612e-02, 1.40660849e-02, 1.39506602e-02, 1.38370437e-02,\n",
       "       1.37251934e-02, 1.36150685e-02, 1.35066295e-02, 1.33998380e-02,\n",
       "       1.32946569e-02, 1.31910502e-02, 1.30889828e-02, 1.29884208e-02,\n",
       "       1.28893312e-02, 1.27916821e-02, 1.26954423e-02, 1.26005815e-02,\n",
       "       1.25070706e-02, 1.24148809e-02, 1.23239848e-02, 1.22343552e-02,\n",
       "       1.21459660e-02, 1.20587917e-02, 1.19728074e-02, 1.18879892e-02,\n",
       "       1.18043134e-02, 1.17217572e-02, 1.16402984e-02, 1.15599153e-02,\n",
       "       1.14805868e-02, 1.14022924e-02, 1.13250121e-02, 1.12487263e-02,\n",
       "       1.11734160e-02, 1.10990628e-02, 1.10256485e-02, 1.09531556e-02,\n",
       "       1.08815668e-02, 1.08108654e-02, 1.07410352e-02, 1.06720601e-02,\n",
       "       1.06039245e-02, 1.05366135e-02, 1.04701120e-02, 1.04044056e-02,\n",
       "       1.03394803e-02, 1.02753222e-02, 1.02119179e-02, 1.01492543e-02,\n",
       "       1.00873184e-02, 1.00260977e-02, 9.96557999e-03, 9.90575326e-03,\n",
       "       9.84660579e-03, 9.78812614e-03, 9.73030309e-03, 9.67312571e-03,\n",
       "       9.61658329e-03, 9.56066536e-03, 9.50536169e-03, 9.45066224e-03,\n",
       "       9.39655722e-03, 9.34303704e-03, 9.29009231e-03, 9.23771385e-03,\n",
       "       9.18589266e-03, 9.13461994e-03, 9.08388707e-03, 9.03368562e-03,\n",
       "       8.98400732e-03, 8.93484407e-03, 8.88618795e-03, 8.83803120e-03,\n",
       "       8.79036620e-03, 8.74318551e-03, 8.69648181e-03, 8.65024795e-03,\n",
       "       8.60447691e-03, 8.55916182e-03, 8.51429593e-03, 8.46987263e-03,\n",
       "       8.42588545e-03, 8.38232803e-03, 8.33919414e-03, 8.29647766e-03,\n",
       "       8.25417261e-03, 8.21227310e-03, 8.17077335e-03, 8.12966772e-03,\n",
       "       8.08895064e-03, 8.04861667e-03, 8.00866046e-03, 7.96907676e-03,\n",
       "       7.92986041e-03, 7.89100636e-03, 7.85250963e-03, 7.81436536e-03,\n",
       "       7.77656876e-03, 7.73911512e-03, 7.70199983e-03, 7.66521836e-03,\n",
       "       7.62876624e-03, 7.59263911e-03, 7.55683267e-03, 7.52134269e-03,\n",
       "       7.48616502e-03, 7.45129559e-03, 7.41673040e-03, 7.38246550e-03,\n",
       "       7.34849703e-03, 7.31482118e-03, 7.28143421e-03, 7.24833245e-03,\n",
       "       7.21551229e-03, 7.18297017e-03, 7.15070261e-03, 7.11870616e-03,\n",
       "       7.08697744e-03, 7.05551314e-03, 7.02430999e-03, 6.99336478e-03,\n",
       "       6.96267434e-03, 6.93223556e-03, 6.90204539e-03, 6.87210082e-03,\n",
       "       6.84239887e-03, 6.81293665e-03, 6.78371127e-03, 6.75471993e-03,\n",
       "       6.72595983e-03, 6.69742825e-03, 6.66912250e-03, 6.64103992e-03,\n",
       "       6.61317791e-03, 6.58553390e-03, 6.55810537e-03, 6.53088982e-03,\n",
       "       6.50388481e-03, 6.47708791e-03, 6.45049676e-03, 6.42410901e-03,\n",
       "       6.39792237e-03, 6.37193454e-03, 6.34614332e-03, 6.32054647e-03,\n",
       "       6.29514185e-03, 6.26992730e-03, 6.24490073e-03, 6.22006006e-03,\n",
       "       6.19540324e-03, 6.17092825e-03, 6.14663311e-03, 6.12251587e-03,\n",
       "       6.09857459e-03, 6.07480737e-03, 6.05121234e-03, 6.02778765e-03,\n",
       "       6.00453149e-03, 5.98144205e-03, 5.95851756e-03, 5.93575628e-03,\n",
       "       5.91315650e-03, 5.89071651e-03, 5.86843464e-03, 5.84630924e-03,\n",
       "       5.82433869e-03, 5.80252138e-03, 5.78085573e-03, 5.75934017e-03,\n",
       "       5.73797318e-03, 5.71675323e-03, 5.69567882e-03, 5.67474849e-03,\n",
       "       5.65396076e-03, 5.63331420e-03, 5.61280739e-03, 5.59243894e-03,\n",
       "       5.57220746e-03, 5.55211159e-03, 5.53214998e-03, 5.51232131e-03,\n",
       "       5.49262427e-03, 5.47305757e-03, 5.45361992e-03, 5.43431008e-03,\n",
       "       5.41512679e-03, 5.39606883e-03, 5.37713500e-03, 5.35832408e-03,\n",
       "       5.33963491e-03, 5.32106632e-03, 5.30261716e-03, 5.28428629e-03,\n",
       "       5.26607259e-03, 5.24797496e-03, 5.22999230e-03, 5.21212352e-03,\n",
       "       5.19436757e-03, 5.17672339e-03, 5.15918995e-03, 5.14176620e-03,\n",
       "       5.12445115e-03, 5.10724378e-03, 5.09014311e-03, 5.07314816e-03,\n",
       "       5.05625796e-03, 5.03947156e-03, 5.02278801e-03, 5.00620640e-03,\n",
       "       4.98972579e-03, 4.97334527e-03, 4.95706395e-03, 4.94088094e-03,\n",
       "       4.92479537e-03, 4.90880636e-03, 4.89291306e-03, 4.87711463e-03,\n",
       "       4.86141022e-03, 4.84579902e-03, 4.83028020e-03, 4.81485295e-03,\n",
       "       4.79951649e-03, 4.78427001e-03, 4.76911275e-03, 4.75404392e-03,\n",
       "       4.73906277e-03, 4.72416855e-03, 4.70936050e-03, 4.69463790e-03,\n",
       "       4.68000001e-03, 4.66544612e-03, 4.65097551e-03, 4.63658748e-03,\n",
       "       4.62228134e-03, 4.60805640e-03, 4.59391197e-03, 4.57984739e-03,\n",
       "       4.56586198e-03, 4.55195510e-03, 4.53812609e-03, 4.52437430e-03,\n",
       "       4.51069911e-03, 4.49709988e-03, 4.48357598e-03, 4.47012681e-03,\n",
       "       4.45675176e-03, 4.44345022e-03, 4.43022159e-03, 4.41706528e-03,\n",
       "       4.40398073e-03, 4.39096733e-03, 4.37802453e-03, 4.36515177e-03,\n",
       "       4.35234847e-03, 4.33961409e-03, 4.32694808e-03, 4.31434990e-03,\n",
       "       4.30181902e-03, 4.28935490e-03, 4.27695703e-03, 4.26462487e-03,\n",
       "       4.25235792e-03, 4.24015567e-03, 4.22801761e-03, 4.21594326e-03,\n",
       "       4.20393211e-03, 4.19198367e-03, 4.18009747e-03, 4.16827303e-03,\n",
       "       4.15650988e-03, 4.14480754e-03, 4.13316556e-03, 4.12158346e-03,\n",
       "       4.11006081e-03, 4.09859716e-03, 4.08719204e-03, 4.07584504e-03,\n",
       "       4.06455570e-03, 4.05332360e-03, 4.04214831e-03, 4.03102941e-03,\n",
       "       4.01996647e-03, 4.00895909e-03, 3.99800685e-03, 3.98710935e-03,\n",
       "       3.97626618e-03, 3.96547694e-03, 3.95474125e-03, 3.94405870e-03,\n",
       "       3.93342891e-03, 3.92285149e-03, 3.91232608e-03, 3.90185228e-03,\n",
       "       3.89142973e-03, 3.88105806e-03, 3.87073691e-03, 3.86046590e-03,\n",
       "       3.85024469e-03, 3.84007291e-03, 3.82995022e-03, 3.81987627e-03,\n",
       "       3.80985070e-03, 3.79987319e-03, 3.78994338e-03, 3.78006096e-03,\n",
       "       3.77022557e-03, 3.76043689e-03, 3.75069461e-03, 3.74099838e-03,\n",
       "       3.73134790e-03, 3.72174284e-03, 3.71218290e-03, 3.70266775e-03,\n",
       "       3.69319709e-03, 3.68377062e-03, 3.67438803e-03, 3.66504902e-03,\n",
       "       3.65575329e-03, 3.64650055e-03, 3.63729051e-03, 3.62812287e-03,\n",
       "       3.61899736e-03, 3.60991368e-03, 3.60087155e-03, 3.59187069e-03,\n",
       "       3.58291083e-03, 3.57399170e-03, 3.56511301e-03, 3.55627450e-03,\n",
       "       3.54747591e-03, 3.53871696e-03, 3.52999740e-03, 3.52131697e-03,\n",
       "       3.51267541e-03, 3.50407245e-03, 3.49550786e-03, 3.48698137e-03,\n",
       "       3.47849274e-03, 3.47004172e-03, 3.46162807e-03, 3.45325154e-03,\n",
       "       3.44491189e-03, 3.43660889e-03, 3.42834230e-03, 3.42011188e-03,\n",
       "       3.41191740e-03, 3.40375863e-03, 3.39563534e-03, 3.38754731e-03,\n",
       "       3.37949432e-03, 3.37147612e-03, 3.36349252e-03, 3.35554329e-03,\n",
       "       3.34762820e-03, 3.33974705e-03, 3.33189963e-03, 3.32408571e-03,\n",
       "       3.31630510e-03, 3.30855757e-03, 3.30084293e-03, 3.29316098e-03,\n",
       "       3.28551150e-03, 3.27789429e-03, 3.27030917e-03, 3.26275592e-03,\n",
       "       3.25523435e-03, 3.24774427e-03, 3.24028548e-03, 3.23285779e-03,\n",
       "       3.22546101e-03, 3.21809496e-03, 3.21075944e-03, 3.20345427e-03,\n",
       "       3.19617927e-03, 3.18893425e-03, 3.18171903e-03, 3.17453343e-03,\n",
       "       3.16737728e-03, 3.16025039e-03, 3.15315259e-03, 3.14608371e-03,\n",
       "       3.13904358e-03, 3.13203202e-03, 3.12504886e-03, 3.11809393e-03,\n",
       "       3.11116707e-03, 3.10426811e-03, 3.09739689e-03, 3.09055324e-03,\n",
       "       3.08373700e-03, 3.07694802e-03, 3.07018612e-03, 3.06345115e-03,\n",
       "       3.05674296e-03, 3.05006138e-03, 3.04340627e-03, 3.03677747e-03,\n",
       "       3.03017483e-03, 3.02359820e-03, 3.01704742e-03, 3.01052234e-03,\n",
       "       3.00402283e-03, 2.99754873e-03, 2.99109990e-03, 2.98467620e-03,\n",
       "       2.97827747e-03, 2.97190358e-03, 2.96555438e-03, 2.95922975e-03,\n",
       "       2.95292953e-03, 2.94665359e-03, 2.94040179e-03, 2.93417399e-03,\n",
       "       2.92797007e-03, 2.92178989e-03, 2.91563331e-03, 2.90950021e-03,\n",
       "       2.90339044e-03, 2.89730389e-03, 2.89124042e-03, 2.88519990e-03,\n",
       "       2.87918221e-03, 2.87318722e-03, 2.86721481e-03, 2.86126485e-03,\n",
       "       2.85533721e-03, 2.84943178e-03, 2.84354844e-03, 2.83768705e-03,\n",
       "       2.83184751e-03, 2.82602970e-03, 2.82023349e-03, 2.81445876e-03,\n",
       "       2.80870541e-03, 2.80297332e-03, 2.79726236e-03, 2.79157243e-03,\n",
       "       2.78590342e-03, 2.78025521e-03, 2.77462768e-03, 2.76902074e-03,\n",
       "       2.76343426e-03, 2.75786815e-03, 2.75232228e-03, 2.74679656e-03,\n",
       "       2.74129088e-03, 2.73580513e-03, 2.73033920e-03, 2.72489299e-03,\n",
       "       2.71946639e-03, 2.71405931e-03, 2.70867164e-03, 2.70330328e-03,\n",
       "       2.69795413e-03, 2.69262408e-03, 2.68731304e-03, 2.68202091e-03,\n",
       "       2.67674759e-03, 2.67149298e-03, 2.66625699e-03, 2.66103951e-03,\n",
       "       2.65584046e-03, 2.65065973e-03, 2.64549724e-03, 2.64035289e-03,\n",
       "       2.63522659e-03, 2.63011824e-03, 2.62502775e-03, 2.61995504e-03,\n",
       "       2.61490000e-03, 2.60986256e-03, 2.60484262e-03, 2.59984009e-03,\n",
       "       2.59485488e-03, 2.58988692e-03, 2.58493610e-03, 2.58000234e-03,\n",
       "       2.57508556e-03, 2.57018568e-03, 2.56530260e-03, 2.56043625e-03,\n",
       "       2.55558653e-03, 2.55075338e-03, 2.54593669e-03, 2.54113640e-03,\n",
       "       2.53635242e-03, 2.53158467e-03, 2.52683307e-03, 2.52209754e-03,\n",
       "       2.51737800e-03, 2.51267437e-03, 2.50798658e-03, 2.50331454e-03,\n",
       "       2.49865818e-03, 2.49401742e-03, 2.48939219e-03, 2.48478241e-03,\n",
       "       2.48018800e-03, 2.47560889e-03, 2.47104501e-03, 2.46649628e-03,\n",
       "       2.46196262e-03, 2.45744398e-03, 2.45294026e-03, 2.44845141e-03,\n",
       "       2.44397734e-03, 2.43951800e-03, 2.43507330e-03, 2.43064318e-03,\n",
       "       2.42622757e-03, 2.42182639e-03, 2.41743959e-03, 2.41306709e-03,\n",
       "       2.40870882e-03, 2.40436472e-03, 2.40003471e-03, 2.39571874e-03,\n",
       "       2.39141674e-03, 2.38712863e-03, 2.38285436e-03, 2.37859386e-03,\n",
       "       2.37434707e-03, 2.37011391e-03, 2.36589434e-03, 2.36168827e-03,\n",
       "       2.35749566e-03, 2.35331643e-03, 2.34915053e-03, 2.34499789e-03,\n",
       "       2.34085846e-03, 2.33673217e-03, 2.33261895e-03, 2.32851876e-03,\n",
       "       2.32443153e-03, 2.32035719e-03, 2.31629570e-03, 2.31224699e-03,\n",
       "       2.30821100e-03, 2.30418768e-03, 2.30017697e-03, 2.29617880e-03,\n",
       "       2.29219313e-03, 2.28821989e-03, 2.28425904e-03, 2.28031050e-03,\n",
       "       2.27637424e-03, 2.27245018e-03, 2.26853829e-03, 2.26463849e-03,\n",
       "       2.26075074e-03, 2.25687499e-03, 2.25301117e-03, 2.24915924e-03,\n",
       "       2.24531915e-03, 2.24149083e-03, 2.23767424e-03, 2.23386933e-03,\n",
       "       2.23007603e-03, 2.22629431e-03, 2.22252411e-03, 2.21876538e-03,\n",
       "       2.21501807e-03, 2.21128213e-03, 2.20755750e-03, 2.20384414e-03,\n",
       "       2.20014200e-03, 2.19645103e-03, 2.19277117e-03, 2.18910239e-03,\n",
       "       2.18544463e-03, 2.18179785e-03, 2.17816199e-03, 2.17453701e-03,\n",
       "       2.17092287e-03, 2.16731951e-03, 2.16372688e-03, 2.16014495e-03,\n",
       "       2.15657366e-03, 2.15301297e-03, 2.14946284e-03, 2.14592321e-03,\n",
       "       2.14239405e-03, 2.13887530e-03, 2.13536693e-03, 2.13186889e-03,\n",
       "       2.12838113e-03, 2.12490361e-03, 2.12143629e-03, 2.11797912e-03,\n",
       "       2.11453206e-03, 2.11109507e-03, 2.10766810e-03, 2.10425112e-03,\n",
       "       2.10084408e-03, 2.09744693e-03, 2.09405964e-03, 2.09068216e-03,\n",
       "       2.08731446e-03, 2.08395649e-03, 2.08060821e-03, 2.07726958e-03,\n",
       "       2.07394056e-03, 2.07062112e-03, 2.06731120e-03, 2.06401077e-03,\n",
       "       2.06071979e-03, 2.05743823e-03, 2.05416604e-03, 2.05090318e-03,\n",
       "       2.04764961e-03, 2.04440531e-03, 2.04117022e-03, 2.03794431e-03,\n",
       "       2.03472754e-03, 2.03151988e-03, 2.02832129e-03, 2.02513173e-03,\n",
       "       2.02195116e-03, 2.01877954e-03, 2.01561685e-03, 2.01246304e-03,\n",
       "       2.00931807e-03, 2.00618192e-03, 2.00305455e-03, 1.99993591e-03,\n",
       "       1.99682598e-03, 1.99372472e-03, 1.99063209e-03, 1.98754806e-03,\n",
       "       1.98447259e-03, 1.98140566e-03, 1.97834722e-03, 1.97529724e-03,\n",
       "       1.97225569e-03, 1.96922253e-03, 1.96619774e-03, 1.96318127e-03,\n",
       "       1.96017309e-03, 1.95717317e-03, 1.95418149e-03, 1.95119799e-03,\n",
       "       1.94822266e-03, 1.94525546e-03, 1.94229636e-03, 1.93934532e-03,\n",
       "       1.93640232e-03, 1.93346731e-03, 1.93054028e-03, 1.92762119e-03,\n",
       "       1.92471001e-03, 1.92180670e-03, 1.91891124e-03, 1.91602359e-03,\n",
       "       1.91314373e-03, 1.91027162e-03, 1.90740724e-03, 1.90455055e-03,\n",
       "       1.90170153e-03, 1.89886014e-03, 1.89602635e-03, 1.89320014e-03,\n",
       "       1.89038147e-03, 1.88757032e-03, 1.88476666e-03, 1.88197046e-03,\n",
       "       1.87918169e-03, 1.87640031e-03, 1.87362631e-03, 1.87085966e-03,\n",
       "       1.86810032e-03, 1.86534827e-03, 1.86260348e-03, 1.85986592e-03,\n",
       "       1.85713557e-03, 1.85441240e-03, 1.85169637e-03, 1.84898747e-03,\n",
       "       1.84628567e-03, 1.84359093e-03, 1.84090324e-03, 1.83822256e-03,\n",
       "       1.83554887e-03, 1.83288214e-03, 1.83022235e-03, 1.82756947e-03,\n",
       "       1.82492348e-03, 1.82228434e-03, 1.81965204e-03, 1.81702654e-03,\n",
       "       1.81440783e-03, 1.81179587e-03, 1.80919064e-03, 1.80659212e-03,\n",
       "       1.80400028e-03, 1.80141509e-03, 1.79883654e-03, 1.79626459e-03,\n",
       "       1.79369923e-03, 1.79114042e-03, 1.78858815e-03, 1.78604239e-03,\n",
       "       1.78350311e-03, 1.78097030e-03, 1.77844392e-03, 1.77592396e-03,\n",
       "       1.77341038e-03, 1.77090318e-03, 1.76840231e-03, 1.76590777e-03,\n",
       "       1.76341953e-03, 1.76093756e-03, 1.75846184e-03, 1.75599235e-03,\n",
       "       1.75352907e-03, 1.75107197e-03, 1.74862103e-03, 1.74617623e-03,\n",
       "       1.74373755e-03, 1.74130496e-03, 1.73887845e-03, 1.73645798e-03,\n",
       "       1.73404355e-03, 1.73163512e-03, 1.72923267e-03, 1.72683619e-03,\n",
       "       1.72444565e-03, 1.72206104e-03, 1.71968232e-03, 1.71730948e-03,\n",
       "       1.71494250e-03, 1.71258136e-03, 1.71022603e-03, 1.70787650e-03,\n",
       "       1.70553275e-03, 1.70319474e-03, 1.70086247e-03, 1.69853592e-03,\n",
       "       1.69621506e-03, 1.69389987e-03, 1.69159034e-03, 1.68928643e-03,\n",
       "       1.68698815e-03, 1.68469545e-03, 1.68240833e-03, 1.68012676e-03,\n",
       "       1.67785073e-03, 1.67558022e-03, 1.67331520e-03, 1.67105565e-03,\n",
       "       1.66880157e-03, 1.66655292e-03, 1.66430970e-03, 1.66207187e-03,\n",
       "       1.65983943e-03, 1.65761235e-03, 1.65539061e-03, 1.65317421e-03,\n",
       "       1.65096311e-03, 1.64875729e-03, 1.64655675e-03, 1.64436147e-03,\n",
       "       1.64217142e-03, 1.63998658e-03, 1.63780695e-03, 1.63563249e-03,\n",
       "       1.63346320e-03, 1.63129906e-03, 1.62914004e-03, 1.62698613e-03,\n",
       "       1.62483732e-03, 1.62269358e-03, 1.62055490e-03, 1.61842126e-03,\n",
       "       1.61629265e-03, 1.61416904e-03, 1.61205042e-03, 1.60993678e-03,\n",
       "       1.60782809e-03, 1.60572434e-03, 1.60362551e-03, 1.60153159e-03,\n",
       "       1.59944256e-03, 1.59735840e-03, 1.59527910e-03, 1.59320464e-03,\n",
       "       1.59113500e-03, 1.58907017e-03, 1.58701014e-03, 1.58495487e-03,\n",
       "       1.58290437e-03, 1.58085861e-03, 1.57881758e-03, 1.57678127e-03,\n",
       "       1.57474965e-03, 1.57272270e-03, 1.57070043e-03, 1.56868280e-03,\n",
       "       1.56666981e-03, 1.56466144e-03, 1.56265767e-03, 1.56065849e-03,\n",
       "       1.55866389e-03, 1.55667384e-03, 1.55468834e-03, 1.55270736e-03,\n",
       "       1.55073090e-03, 1.54875893e-03, 1.54679146e-03, 1.54482844e-03,\n",
       "       1.54286989e-03, 1.54091577e-03, 1.53896608e-03, 1.53702080e-03,\n",
       "       1.53507992e-03, 1.53314342e-03, 1.53121129e-03, 1.52928351e-03,\n",
       "       1.52736007e-03, 1.52544095e-03, 1.52352615e-03, 1.52161565e-03,\n",
       "       1.51970943e-03, 1.51780748e-03, 1.51590978e-03, 1.51401633e-03,\n",
       "       1.51212711e-03, 1.51024210e-03, 1.50836129e-03, 1.50648467e-03,\n",
       "       1.50461223e-03, 1.50274395e-03, 1.50087981e-03, 1.49901981e-03,\n",
       "       1.49716393e-03, 1.49531216e-03, 1.49346449e-03, 1.49162090e-03,\n",
       "       1.48978137e-03, 1.48794590e-03, 1.48611448e-03, 1.48428709e-03,\n",
       "       1.48246371e-03, 1.48064434e-03, 1.47882896e-03, 1.47701756e-03,\n",
       "       1.47521013e-03, 1.47340665e-03, 1.47160712e-03, 1.46981151e-03,\n",
       "       1.46801982e-03, 1.46623204e-03, 1.46444815e-03, 1.46266814e-03,\n",
       "       1.46089200e-03, 1.45911972e-03, 1.45735128e-03, 1.45558667e-03,\n",
       "       1.45382588e-03, 1.45206890e-03, 1.45031572e-03, 1.44856632e-03,\n",
       "       1.44682070e-03, 1.44507883e-03, 1.44334072e-03, 1.44160635e-03,\n",
       "       1.43987570e-03, 1.43814876e-03, 1.43642553e-03, 1.43470599e-03,\n",
       "       1.43299013e-03, 1.43127795e-03, 1.42956942e-03, 1.42786453e-03,\n",
       "       1.42616328e-03, 1.42446566e-03, 1.42277165e-03, 1.42108124e-03])"
      ]
     },
     "execution_count": 29,
     "metadata": {},
     "output_type": "execute_result"
    }
   ],
   "source": [
    "rsin"
   ]
  },
  {
   "cell_type": "code",
   "execution_count": 30,
   "id": "b686cecc-af6d-44c7-9f04-a5c6cb89ad3b",
   "metadata": {},
   "outputs": [
    {
     "data": {
      "text/plain": [
       "[<matplotlib.lines.Line2D at 0x799b116690>]"
      ]
     },
     "execution_count": 30,
     "metadata": {},
     "output_type": "execute_result"
    },
    {
     "data": {
      "image/png": "[encoded data removed]",
      "text/plain": [
       "<Figure size 640x480 with 1 Axes>"
      ]
     },
     "metadata": {},
     "output_type": "display_data"
    }
   ],
   "source": [
    "plt.plot(rsin**2, x/4)"
   ]
  },
  {
   "cell_type": "code",
   "execution_count": 33,
   "id": "3ace3f99-6edf-4238-a6f7-144db0233c73",
   "metadata": {},
   "outputs": [],
   "source": [
    "inverse_rsin = rsin**-1"
   ]
  },
  {
   "cell_type": "code",
   "execution_count": 34,
   "id": "3437cc48-0b88-44fa-9266-be42c9b11627",
   "metadata": {},
   "outputs": [
    {
     "data": {
      "text/plain": [
       "[<matplotlib.lines.Line2D at 0x799aed94c0>]"
      ]
     },
     "execution_count": 34,
     "metadata": {},
     "output_type": "execute_result"
    },
    {
     "data": {
      "image/png": "[encoded data removed]",
      "text/plain": [
       "<Figure size 640x480 with 1 Axes>"
      ]
     },
     "metadata": {},
     "output_type": "display_data"
    }
   ],
   "source": [
    "plt.plot(x, inverse_rsin)"
   ]
  },
  {
   "cell_type": "code",
   "execution_count": 35,
   "id": "ba6f0070-6726-4464-9734-ec38b4962086",
   "metadata": {},
   "outputs": [
    {
     "data": {
      "text/plain": [
       "[<matplotlib.lines.Line2D at 0x799b15cfb0>]"
      ]
     },
     "execution_count": 35,
     "metadata": {},
     "output_type": "execute_result"
    },
    {
     "data": {
      "image/png": "[encoded data removed]",
      "text/plain": [
       "<Figure size 640x480 with 1 Axes>"
      ]
     },
     "metadata": {},
     "output_type": "display_data"
    }
   ],
   "source": [
    "plt.plot(inverse_rsin**2, x*rsin)"
   ]
  },
  {
   "cell_type": "code",
   "execution_count": null,
   "id": "c778e443-ff47-4294-a96a-d57329a7ef78",
   "metadata": {},
   "outputs": [],
   "source": []
  }
 ],
 "metadata": {
  "kernelspec": {
   "display_name": "Python 3 (ipykernel)",
   "language": "python",
   "name": "python3"
  },
  "language_info": {
   "codemirror_mode": {
    "name": "ipython",
    "version": 3
   },
   "file_extension": ".py",
   "mimetype": "text/x-python",
   "name": "python",
   "nbconvert_exporter": "python",
   "pygments_lexer": "ipython3",
   "version": "3.12.11"
  }
 },
 "nbformat": 4,
 "nbformat_minor": 5
}
