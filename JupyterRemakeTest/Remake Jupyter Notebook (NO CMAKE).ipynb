{
 "cells": [
  {
   "cell_type": "markdown",
   "id": "cd1f3d72-faf0-4377-9f3d-619e7182a783",
   "metadata": {},
   "source": [
    "okay so what do we care about?\n",
    "\n",
    "<hr>\n",
    "\n",
    "\n",
    "well we want a combinable document of markup text or formatted text and sequential text right\n",
    "\n",
    "so html and python\n",
    "\n",
    "we want to at first duplicate the single notebook view\n",
    "\n",
    "a good first step for that will be just duplicating in css and html the main pages of the notebook interface right?\n",
    "\n",
    "so we need a wysiwyg like what we are using right now thats what they call them in google javascript land\n",
    "\n",
    "so right?\n",
    "\n",
    "first build or second build\n",
    "right\n",
    "\n",
    "the order doesnt matter\n",
    "\n",
    "but build a css clone of the pages\n",
    "\n",
    "get one working that has text input for just a text file\n",
    "\n",
    "get the text file able to be a python program that runs with just a play button in the browser\n",
    "\n",
    "after that get shift enter working on cells so you can like pipe it into a background terminal right?"
   ]
  }
 ],
 "metadata": {
  "kernelspec": {
   "display_name": "Python 3 (ipykernel)",
   "language": "python",
   "name": "python3"
  },
  "language_info": {
   "codemirror_mode": {
    "name": "ipython",
    "version": 3
   },
   "file_extension": ".py",
   "mimetype": "text/x-python",
   "name": "python",
   "nbconvert_exporter": "python",
   "pygments_lexer": "ipython3",
   "version": "3.13.5"
  }
 },
 "nbformat": 4,
 "nbformat_minor": 5
}
